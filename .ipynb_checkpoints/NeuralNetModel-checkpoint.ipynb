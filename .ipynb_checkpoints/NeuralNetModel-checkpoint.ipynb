{
 "cells": [
  {
   "cell_type": "code",
   "execution_count": 37,
   "id": "d828e1bf",
   "metadata": {},
   "outputs": [],
   "source": [
    "import pandas as pd\n",
    "import numpy as np\n",
    "import tensorflow as tf\n",
    "from data_prep import read_train_data, read_test_data, create_Xy\n",
    "from sklearn.model_selection import train_test_split\n",
    "from sklearn.metrics import mean_squared_error\n",
    "import matplotlib.pyplot as plt"
   ]
  },
  {
   "cell_type": "code",
   "execution_count": 10,
   "id": "c632225d",
   "metadata": {},
   "outputs": [],
   "source": [
    "columns = [\"TotalDays_award\", \"TotalDays_usage\", \"PI_New\", \"PI_PrevUsage\", \"PI_PrevUsageRate\",\n",
    "           'FoS_AdvSciComp',\n",
    "           'FoS_AstronmSci', 'FoS_AtmosphSci', 'FoS_BioChemMol', 'FoS_BiologySci',\n",
    "           'FoS_BioPhysics', 'FoS_ChemReactP', 'FoS_ChemThermS', 'FoS_Chemistry',\n",
    "           'FoS_CompMath', 'FoS_CompCompR', 'FoS_CondMatPhy', 'FoS_EarthSci',\n",
    "           'FoS_Engineer', 'FoS_ExtAstrCos', 'FoS_FluidPartH', 'FoS_GeneNuclAc',\n",
    "           'FoS_MaterialRe', 'FoS_MechanMate', 'FoS_MoleculBio', 'FoS_PhysChem',\n",
    "           'FoS_Physics', 'FoS_StellAstro', 'FoS_OtherBio', 'FoS_OtherComp',\n",
    "           'FoS_OtherEngi', 'FoS_OtherGeos', 'FoS_OtherMathPhys', 'FoS_SociBehEco',\n",
    "           'FoS_HumanArts', 'Type_Startup',\n",
    "           'Type_Research', 'Type_Discretionary', 'Type_LRAC', 'Type_MRAC',\n",
    "           'Type_XRAC', 'Type_DAC', \"count_Project\", \"count_Resource\", \"Initial_Allocation\", \"Final_Allocation\", \n",
    "           \"UsageRate\"]\n",
    "\n",
    "cat_vars = [\"PI_New\",\n",
    "           \"Carnegie\", 'FoS_AdvSciComp',\n",
    "           'FoS_AstronmSci', 'FoS_AtmosphSci', 'FoS_BioChemMol', 'FoS_BiologySci',\n",
    "           'FoS_BioPhysics', 'FoS_ChemReactP', 'FoS_ChemThermS', 'FoS_Chemistry',\n",
    "           'FoS_CompMath', 'FoS_CompCompR', 'FoS_CondMatPhy', 'FoS_EarthSci',\n",
    "           'FoS_Engineer', 'FoS_ExtAstrCos', 'FoS_FluidPartH', 'FoS_GeneNuclAc',\n",
    "           'FoS_MaterialRe', 'FoS_MechanMate', 'FoS_MoleculBio', 'FoS_PhysChem',\n",
    "           'FoS_Physics', 'FoS_StellAstro', 'FoS_OtherBio', 'FoS_OtherComp',\n",
    "           'FoS_OtherEngi', 'FoS_OtherGeos', 'FoS_OtherMathPhys', 'FoS_SociBehEco',\n",
    "           'FoS_HumanArts', 'Type_Startup', \n",
    "            'Type_Research', 'Type_Discretionary', 'Type_LRAC', 'Type_MRAC',\n",
    "            'Type_XRAC', 'Type_DAC']\n",
    "\n",
    "cont_features = [\"TotalDays_award\", \"TotalDays_usage\", \"count_Project\", \"count_Resource\", \n",
    "                 \"Initial_Allocation\", \"Final_Allocation\"]"
   ]
  },
  {
   "cell_type": "code",
   "execution_count": 11,
   "id": "e993150d",
   "metadata": {},
   "outputs": [],
   "source": [
    "train = read_train_data()\n",
    "test = read_test_data()\n",
    "\n",
    "train[train.select_dtypes(bool).columns] = train.select_dtypes(bool).astype(int)\n",
    "test[test.select_dtypes(bool).columns] = test.select_dtypes(bool).astype(int)\n",
    "\n",
    "y, X = create_Xy(data=train, x_cols = columns[:-1], y_col=\"UsageRate\")"
   ]
  },
  {
   "cell_type": "code",
   "execution_count": 12,
   "id": "12782953",
   "metadata": {},
   "outputs": [],
   "source": [
    "X_Train, X_Test, y_train, y_test = train_test_split(X, y, train_size=0.7, random_state=42)"
   ]
  },
  {
   "cell_type": "code",
   "execution_count": null,
   "id": "2d93a82a",
   "metadata": {},
   "outputs": [],
   "source": []
  },
  {
   "cell_type": "code",
   "execution_count": 14,
   "id": "6a50e863",
   "metadata": {},
   "outputs": [],
   "source": [
    "normalizer = tf.keras.layers.Normalization(axis=-1)\n",
    "normalizer.adapt(X_Train.values)"
   ]
  },
  {
   "cell_type": "code",
   "execution_count": 48,
   "id": "d255bc5e",
   "metadata": {},
   "outputs": [],
   "source": [
    "model = tf.keras.Sequential([\n",
    "    normalizer,\n",
    "    tf.keras.layers.Dense(64, activation='relu'),\n",
    "    tf.keras.layers.Dense(1, activation='linear')\n",
    "])\n",
    "\n",
    "model.compile(loss='mean_squared_error', optimizer=tf.keras.optimizers.Adam(0.01))"
   ]
  },
  {
   "cell_type": "code",
   "execution_count": 49,
   "id": "f6c1fd38",
   "metadata": {},
   "outputs": [],
   "source": [
    "history = model.fit(X_Train, y_train, validation_split=0.2, epochs=100, verbose=0)"
   ]
  },
  {
   "cell_type": "code",
   "execution_count": 50,
   "id": "605931c9",
   "metadata": {},
   "outputs": [],
   "source": [
    "def plot_loss(history):\n",
    "  plt.plot(history.history['loss'], label='loss')\n",
    "  plt.plot(history.history['val_loss'], label='val_loss')\n",
    "  plt.ylim([0, 2])\n",
    "  plt.xlabel('Epoch')\n",
    "  plt.ylabel('Error [MPG]')\n",
    "  plt.legend()\n",
    "  plt.grid(True)"
   ]
  },
  {
   "cell_type": "code",
   "execution_count": 51,
   "id": "691b6b9a",
   "metadata": {},
   "outputs": [
    {
     "data": {
      "image/png": "[encoded data removed]",
      "text/plain": [
       "<Figure size 432x288 with 1 Axes>"
      ]
     },
     "metadata": {
      "needs_background": "light"
     },
     "output_type": "display_data"
    }
   ],
   "source": [
    "plot_loss(history)"
   ]
  },
  {
   "cell_type": "code",
   "execution_count": 52,
   "id": "f643c070",
   "metadata": {},
   "outputs": [
    {
     "data": {
      "text/html": [
       "<div>\n",
       "<style scoped>\n",
       "    .dataframe tbody tr th:only-of-type {\n",
       "        vertical-align: middle;\n",
       "    }\n",
       "\n",
       "    .dataframe tbody tr th {\n",
       "        vertical-align: top;\n",
       "    }\n",
       "\n",
       "    .dataframe thead th {\n",
       "        text-align: right;\n",
       "    }\n",
       "</style>\n",
       "<table border=\"1\" class=\"dataframe\">\n",
       "  <thead>\n",
       "    <tr style=\"text-align: right;\">\n",
       "      <th></th>\n",
       "      <th>Train</th>\n",
       "      <th>Test</th>\n",
       "    </tr>\n",
       "  </thead>\n",
       "  <tbody>\n",
       "    <tr>\n",
       "      <th>Mean Squared Error</th>\n",
       "      <td>0.629994</td>\n",
       "      <td>0.643286</td>\n",
       "    </tr>\n",
       "  </tbody>\n",
       "</table>\n",
       "</div>"
      ],
      "text/plain": [
       "                       Train      Test\n",
       "Mean Squared Error  0.629994  0.643286"
      ]
     },
     "execution_count": 52,
     "metadata": {},
     "output_type": "execute_result"
    }
   ],
   "source": [
    "train_pred = model.predict(X_Train)\n",
    "test_pred = model.predict(X_Test)\n",
    "\n",
    "train_mse = mean_squared_error(y_train, train_pred)\n",
    "test_mse = mean_squared_error(y_test, test_pred)\n",
    "\n",
    "pd.DataFrame({'Train': [train_mse], 'Test': [test_mse]}, index=['Mean Squared Error'])"
   ]
  },
  {
   "cell_type": "code",
   "execution_count": null,
   "id": "38f0c97a",
   "metadata": {},
   "outputs": [],
   "source": []
  },
  {
   "cell_type": "code",
   "execution_count": null,
   "id": "ecf831b5",
   "metadata": {},
   "outputs": [],
   "source": []
  }
 ],
 "metadata": {
  "kernelspec": {
   "display_name": "tf_venv",
   "language": "python",
   "name": "tf_venv"
  },
  "language_info": {
   "codemirror_mode": {
    "name": "ipython",
    "version": 3
   },
   "file_extension": ".py",
   "mimetype": "text/x-python",
   "name": "python",
   "nbconvert_exporter": "python",
   "pygments_lexer": "ipython3",
   "version": "3.9.7"
  }
 },
 "nbformat": 4,
 "nbformat_minor": 5
}
